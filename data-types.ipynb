{
 "cells": [
  {
   "cell_type": "code",
   "execution_count": 1,
   "id": "ea0539a6",
   "metadata": {
    "execution": {
     "iopub.execute_input": "2022-08-03T02:02:16.606266Z",
     "iopub.status.busy": "2022-08-03T02:02:16.605292Z",
     "iopub.status.idle": "2022-08-03T02:02:16.662212Z",
     "shell.execute_reply": "2022-08-03T02:02:16.661147Z"
    },
    "papermill": {
     "duration": 0.068641,
     "end_time": "2022-08-03T02:02:16.666004",
     "exception": false,
     "start_time": "2022-08-03T02:02:16.597363",
     "status": "completed"
    },
    "tags": []
   },
   "outputs": [
    {
     "name": "stdout",
     "output_type": "stream",
     "text": [
      "Setup complete.\n"
     ]
    }
   ],
   "source": [
    "# Set up the exercise\n",
    "from learntools.core import binder\n",
    "binder.bind(globals())\n",
    "from learntools.intro_to_programming.ex3 import *\n",
    "print('Setup complete.')"
   ]
  },
  {
   "cell_type": "markdown",
   "id": "c09c2a79",
   "metadata": {
    "papermill": {
     "duration": 0.00594,
     "end_time": "2022-08-03T02:02:16.678529",
     "exception": false,
     "start_time": "2022-08-03T02:02:16.672589",
     "status": "completed"
    },
    "tags": []
   },
   "source": [
    "# Question 1\n",
    "\n",
    "You have seen how to convert a float to an integer with the `int` function.  Try this out yourself by running the code cell below."
   ]
  },
  {
   "cell_type": "code",
   "execution_count": 2,
   "id": "d8f11cd6",
   "metadata": {
    "execution": {
     "iopub.execute_input": "2022-08-03T02:02:16.693325Z",
     "iopub.status.busy": "2022-08-03T02:02:16.692763Z",
     "iopub.status.idle": "2022-08-03T02:02:16.700339Z",
     "shell.execute_reply": "2022-08-03T02:02:16.698904Z"
    },
    "papermill": {
     "duration": 0.018216,
     "end_time": "2022-08-03T02:02:16.703116",
     "exception": false,
     "start_time": "2022-08-03T02:02:16.684900",
     "status": "completed"
    },
    "tags": []
   },
   "outputs": [
    {
     "name": "stdout",
     "output_type": "stream",
     "text": [
      "1.0\n",
      "<class 'float'>\n",
      "1\n",
      "<class 'int'>\n"
     ]
    }
   ],
   "source": [
    "# Define a float\n",
    "y = 1.\n",
    "print(y)\n",
    "print(type(y))\n",
    "\n",
    "# Convert float to integer with the int function\n",
    "z = int(y)\n",
    "print(z)\n",
    "print(type(z))\n"
   ]
  },
  {
   "cell_type": "markdown",
   "id": "1b2bc405",
   "metadata": {
    "papermill": {
     "duration": 0.006184,
     "end_time": "2022-08-03T02:02:16.715806",
     "exception": false,
     "start_time": "2022-08-03T02:02:16.709622",
     "status": "completed"
    },
    "tags": []
   },
   "source": [
    "In this case, the float you are using has no numbers after the decimal.  \n",
    "- But what happens when you try to convert a float with a fractional part to an integer?  \n",
    "- How does the outcome of the `int` function change for positive and negative numbers?\n",
    "\n",
    "Use the next code cell to investigate and answer these questions.  Feel free to add or remove any lines of code -- it is your workspace!"
   ]
  },
  {
   "cell_type": "code",
   "execution_count": 3,
   "id": "3c43766c",
   "metadata": {
    "execution": {
     "iopub.execute_input": "2022-08-03T02:02:16.730934Z",
     "iopub.status.busy": "2022-08-03T02:02:16.730196Z",
     "iopub.status.idle": "2022-08-03T02:02:16.737197Z",
     "shell.execute_reply": "2022-08-03T02:02:16.735717Z"
    },
    "papermill": {
     "duration": 0.017339,
     "end_time": "2022-08-03T02:02:16.739536",
     "exception": false,
     "start_time": "2022-08-03T02:02:16.722197",
     "status": "completed"
    },
    "tags": []
   },
   "outputs": [
    {
     "name": "stdout",
     "output_type": "stream",
     "text": [
      "1\n",
      "1\n",
      "-3\n",
      "-2\n"
     ]
    }
   ],
   "source": [
    "# Uncomment and run this code to get started!\n",
    "print(int(1.2321))\n",
    "print(int(1.747))\n",
    "print(int(-3.94535))\n",
    "print(int(-2.19774))"
   ]
  },
  {
   "cell_type": "markdown",
   "id": "cc51953a",
   "metadata": {
    "papermill": {
     "duration": 0.006147,
     "end_time": "2022-08-03T02:02:16.752077",
     "exception": false,
     "start_time": "2022-08-03T02:02:16.745930",
     "status": "completed"
    },
    "tags": []
   },
   "source": [
    "Once you have an answer, run the code cell below to see the solution.  Viewing the solution will give you credit for answering the problem."
   ]
  },
  {
   "cell_type": "code",
   "execution_count": 4,
   "id": "1e602874",
   "metadata": {
    "execution": {
     "iopub.execute_input": "2022-08-03T02:02:16.767195Z",
     "iopub.status.busy": "2022-08-03T02:02:16.766434Z",
     "iopub.status.idle": "2022-08-03T02:02:16.775988Z",
     "shell.execute_reply": "2022-08-03T02:02:16.775114Z"
    },
    "papermill": {
     "duration": 0.01984,
     "end_time": "2022-08-03T02:02:16.778227",
     "exception": false,
     "start_time": "2022-08-03T02:02:16.758387",
     "status": "completed"
    },
    "tags": []
   },
   "outputs": [
    {
     "data": {
      "application/javascript": "parent.postMessage({\"jupyterEvent\": \"custom.exercise_interaction\", \"data\": {\"outcomeType\": 1, \"valueTowardsCompletion\": 0.2, \"interactionType\": 1, \"questionType\": 4, \"questionId\": \"1_FloatToInt\", \"learnToolsVersion\": \"0.3.4\", \"failureMessage\": \"\", \"exceptionClass\": \"\", \"trace\": \"\"}}, \"*\")",
      "text/plain": [
       "<IPython.core.display.Javascript object>"
      ]
     },
     "metadata": {},
     "output_type": "display_data"
    },
    {
     "data": {
      "text/markdown": [
       "<span style=\"color:#33cc33\">Correct:</span> \n",
       "\n",
       "Negative floats are always rounded UP to the closest integer (for instance, both -1.1 and -1.9 are rounded up to -1). Positive floats are always rounded DOWN to the closest integer (for instance, 2.1 and 2.9 are rounded down to 2)."
      ],
      "text/plain": [
       "Correct: \n",
       "\n",
       "Negative floats are always rounded UP to the closest integer (for instance, both -1.1 and -1.9 are rounded up to -1). Positive floats are always rounded DOWN to the closest integer (for instance, 2.1 and 2.9 are rounded down to 2)."
      ]
     },
     "metadata": {},
     "output_type": "display_data"
    }
   ],
   "source": [
    "# Check your answer (Run this code cell to receive credit!)\n",
    "q1.check()"
   ]
  },
  {
   "cell_type": "markdown",
   "id": "b088485f",
   "metadata": {
    "papermill": {
     "duration": 0.008695,
     "end_time": "2022-08-03T02:02:16.794294",
     "exception": false,
     "start_time": "2022-08-03T02:02:16.785599",
     "status": "completed"
    },
    "tags": []
   },
   "source": [
    "# Question 2\n",
    "\n",
    "In the tutorial, you learned about booleans (which can take a value of `True` or `False`), in addition to integers, floats, and strings.  For this question, your goal is to determine what happens when you multiply a boolean by any of these data types.  Specifically, \n",
    "- What happens when you multiply an integer or float by `True`?  What happens when you multiply them by `False`?  How does the answer change if the numbers are positive or negative?\n",
    "- What happens when you multiply a string by `True`?  By `False`?\n",
    "\n",
    "Use the next code cell for your investigation. "
   ]
  },
  {
   "cell_type": "code",
   "execution_count": 5,
   "id": "ae351593",
   "metadata": {
    "execution": {
     "iopub.execute_input": "2022-08-03T02:02:16.813031Z",
     "iopub.status.busy": "2022-08-03T02:02:16.811949Z",
     "iopub.status.idle": "2022-08-03T02:02:16.818484Z",
     "shell.execute_reply": "2022-08-03T02:02:16.817357Z"
    },
    "papermill": {
     "duration": 0.019506,
     "end_time": "2022-08-03T02:02:16.821119",
     "exception": false,
     "start_time": "2022-08-03T02:02:16.801613",
     "status": "completed"
    },
    "tags": []
   },
   "outputs": [
    {
     "name": "stdout",
     "output_type": "stream",
     "text": [
      "3\n",
      "-3.1\n",
      "<class 'str'>\n",
      "0\n"
     ]
    }
   ],
   "source": [
    "# Uncomment and run this code to get started!\n",
    "print(3 * True)\n",
    "print(-3.1 * True)\n",
    "print(type(\"abc\" * False))\n",
    "print(len(\"abc\" * False))"
   ]
  },
  {
   "cell_type": "markdown",
   "id": "8ce68b1f",
   "metadata": {
    "papermill": {
     "duration": 0.008445,
     "end_time": "2022-08-03T02:02:16.837565",
     "exception": false,
     "start_time": "2022-08-03T02:02:16.829120",
     "status": "completed"
    },
    "tags": []
   },
   "source": [
    "Once you have an answer, run the code cell below to see the solution.  Viewing the solution will give you credit for answering the problem."
   ]
  },
  {
   "cell_type": "code",
   "execution_count": 6,
   "id": "d82a9148",
   "metadata": {
    "execution": {
     "iopub.execute_input": "2022-08-03T02:02:16.855414Z",
     "iopub.status.busy": "2022-08-03T02:02:16.854435Z",
     "iopub.status.idle": "2022-08-03T02:02:16.865554Z",
     "shell.execute_reply": "2022-08-03T02:02:16.864173Z"
    },
    "papermill": {
     "duration": 0.023056,
     "end_time": "2022-08-03T02:02:16.868126",
     "exception": false,
     "start_time": "2022-08-03T02:02:16.845070",
     "status": "completed"
    },
    "tags": []
   },
   "outputs": [
    {
     "data": {
      "application/javascript": "parent.postMessage({\"jupyterEvent\": \"custom.exercise_interaction\", \"data\": {\"outcomeType\": 1, \"valueTowardsCompletion\": 0.2, \"interactionType\": 1, \"questionType\": 4, \"questionId\": \"2_MultiplyBooleans\", \"learnToolsVersion\": \"0.3.4\", \"failureMessage\": \"\", \"exceptionClass\": \"\", \"trace\": \"\"}}, \"*\")",
      "text/plain": [
       "<IPython.core.display.Javascript object>"
      ]
     },
     "metadata": {},
     "output_type": "display_data"
    },
    {
     "data": {
      "text/markdown": [
       "<span style=\"color:#33cc33\">Correct:</span> \n",
       "\n",
       "When you multiple an integer or float by a boolean with value `True`, it just returns that same integer or float (and is equivalent to multiplying by 1).  If you multiply an integer or float by a boolean with value `False`, it always returns 0.  This is true for both positive and negative numbers.  If you multiply a string by a boolean with value `True`, it just returns that same string.  And if you multiply a string by a boolean with value `False`, it returns an empty string (or a string with length zero)."
      ],
      "text/plain": [
       "Correct: \n",
       "\n",
       "When you multiple an integer or float by a boolean with value `True`, it just returns that same integer or float (and is equivalent to multiplying by 1).  If you multiply an integer or float by a boolean with value `False`, it always returns 0.  This is true for both positive and negative numbers.  If you multiply a string by a boolean with value `True`, it just returns that same string.  And if you multiply a string by a boolean with value `False`, it returns an empty string (or a string with length zero)."
      ]
     },
     "metadata": {},
     "output_type": "display_data"
    }
   ],
   "source": [
    "# Check your answer (Run this code cell to receive credit!)\n",
    "q2.check()"
   ]
  },
  {
   "cell_type": "markdown",
   "id": "6da7d9a1",
   "metadata": {
    "papermill": {
     "duration": 0.007453,
     "end_time": "2022-08-03T02:02:16.884393",
     "exception": false,
     "start_time": "2022-08-03T02:02:16.876940",
     "status": "completed"
    },
    "tags": []
   },
   "source": [
    "# Question 3\n",
    "\n",
    "In this question, you will build off your work from the previous exercise to write a function that estimates the value of a house.\n",
    "\n",
    "Use the next code cell to create a function `get_expected_cost` that takes as input three variables:\n",
    "- `beds` - number of bedrooms (data type float)\n",
    "- `baths` - number of bathrooms (data type float)\n",
    "- `has_basement` - whether or not the house has a basement (data type boolean)\n",
    "\n",
    "It should return the expected cost of a house with those characteristics. Assume that:\n",
    "- the expected cost for a house with 0 bedrooms and 0 bathrooms, and no basement is 80000, \n",
    "- each bedroom adds 30000 to the expected cost,\n",
    "- each bathroom adds 10000 to the expected cost, and\n",
    "- a basement adds 40000 to the expected cost.\n",
    "\n",
    "For instance,\n",
    "- a house with 1 bedroom, 1 bathroom, and no basement has an expected cost of 80000 + 30000 + 10000 = 120000.  This value will be calculated with `get_expected_cost(1, 1, False)`.\n",
    "- a house with 2 bedrooms, 1 bathroom, and a basement has an expected cost of 80000 + 2*30000 + 10000 + 40000 = 190000.  This value will be calculated with `get_expected_cost(2, 1, True)`.\n",
    "\n",
    "Remember you can always get a hint by uncommenting `q3.hint()` in the code cell following the next!"
   ]
  },
  {
   "cell_type": "code",
   "execution_count": 7,
   "id": "2425c88a",
   "metadata": {
    "execution": {
     "iopub.execute_input": "2022-08-03T02:02:16.902325Z",
     "iopub.status.busy": "2022-08-03T02:02:16.901503Z",
     "iopub.status.idle": "2022-08-03T02:02:16.910788Z",
     "shell.execute_reply": "2022-08-03T02:02:16.909993Z"
    },
    "papermill": {
     "duration": 0.020425,
     "end_time": "2022-08-03T02:02:16.912830",
     "exception": false,
     "start_time": "2022-08-03T02:02:16.892405",
     "status": "completed"
    },
    "tags": []
   },
   "outputs": [
    {
     "data": {
      "application/javascript": "parent.postMessage({\"jupyterEvent\": \"custom.exercise_interaction\", \"data\": {\"outcomeType\": 1, \"valueTowardsCompletion\": 0.2, \"interactionType\": 1, \"questionType\": 2, \"questionId\": \"3_EstimateHouseValueBool\", \"learnToolsVersion\": \"0.3.4\", \"failureMessage\": \"\", \"exceptionClass\": \"\", \"trace\": \"\"}}, \"*\")",
      "text/plain": [
       "<IPython.core.display.Javascript object>"
      ]
     },
     "metadata": {},
     "output_type": "display_data"
    },
    {
     "data": {
      "text/markdown": [
       "<span style=\"color:#33cc33\">Correct</span>"
      ],
      "text/plain": [
       "Correct"
      ]
     },
     "metadata": {},
     "output_type": "display_data"
    }
   ],
   "source": [
    "# TODO: Complete the function\n",
    "def get_expected_cost(beds, baths, has_basement):\n",
    "    value = 80000 + 30000 * beds + 10000 * baths + 40000 * has_basement\n",
    "    return value\n",
    "\n",
    "# Check your answer \n",
    "q3.check()"
   ]
  },
  {
   "cell_type": "markdown",
   "id": "6b86f715",
   "metadata": {
    "papermill": {
     "duration": 0.007359,
     "end_time": "2022-08-03T02:02:16.952634",
     "exception": false,
     "start_time": "2022-08-03T02:02:16.945275",
     "status": "completed"
    },
    "tags": []
   },
   "source": [
    "# Question 4\n",
    "\n",
    "We'll continue our study of boolean arithmetic.  For this question, your task is to provide a description of what happpens when you add booleans. \n",
    "\n",
    "Use the next code cell for your investigation.  Feel free to add or remove any lines of code - use it as your workspace!"
   ]
  },
  {
   "cell_type": "code",
   "execution_count": 9,
   "id": "28b7db44",
   "metadata": {
    "execution": {
     "iopub.execute_input": "2022-08-03T02:02:16.969962Z",
     "iopub.status.busy": "2022-08-03T02:02:16.969119Z",
     "iopub.status.idle": "2022-08-03T02:02:16.975522Z",
     "shell.execute_reply": "2022-08-03T02:02:16.974511Z"
    },
    "papermill": {
     "duration": 0.017715,
     "end_time": "2022-08-03T02:02:16.977901",
     "exception": false,
     "start_time": "2022-08-03T02:02:16.960186",
     "status": "completed"
    },
    "tags": []
   },
   "outputs": [
    {
     "name": "stdout",
     "output_type": "stream",
     "text": [
      "0\n",
      "1\n",
      "1\n",
      "2\n",
      "3\n"
     ]
    }
   ],
   "source": [
    "print(False + False)\n",
    "print(True + False)\n",
    "print(False + True)\n",
    "print(True + True)\n",
    "print(False + True + True + True)"
   ]
  },
  {
   "cell_type": "markdown",
   "id": "48556896",
   "metadata": {
    "papermill": {
     "duration": 0.007144,
     "end_time": "2022-08-03T02:02:16.992570",
     "exception": false,
     "start_time": "2022-08-03T02:02:16.985426",
     "status": "completed"
    },
    "tags": []
   },
   "source": [
    "Once you have an answer, run the code cell below to see the solution.  Viewing the solution will give you credit for answering the problem."
   ]
  },
  {
   "cell_type": "code",
   "execution_count": 10,
   "id": "d0022d35",
   "metadata": {
    "execution": {
     "iopub.execute_input": "2022-08-03T02:02:17.009778Z",
     "iopub.status.busy": "2022-08-03T02:02:17.008966Z",
     "iopub.status.idle": "2022-08-03T02:02:17.017057Z",
     "shell.execute_reply": "2022-08-03T02:02:17.015714Z"
    },
    "papermill": {
     "duration": 0.019309,
     "end_time": "2022-08-03T02:02:17.019326",
     "exception": false,
     "start_time": "2022-08-03T02:02:17.000017",
     "status": "completed"
    },
    "tags": []
   },
   "outputs": [
    {
     "data": {
      "application/javascript": "parent.postMessage({\"jupyterEvent\": \"custom.exercise_interaction\", \"data\": {\"outcomeType\": 1, \"valueTowardsCompletion\": 0.2, \"interactionType\": 1, \"questionType\": 4, \"questionId\": \"4_AddingBooleans\", \"learnToolsVersion\": \"0.3.4\", \"failureMessage\": \"\", \"exceptionClass\": \"\", \"trace\": \"\"}}, \"*\")",
      "text/plain": [
       "<IPython.core.display.Javascript object>"
      ]
     },
     "metadata": {},
     "output_type": "display_data"
    },
    {
     "data": {
      "text/markdown": [
       "<span style=\"color:#33cc33\">Correct:</span> \n",
       "\n",
       "When you add booleans, adding `False` is equivalent to adding 0, and adding `True` is equivalent to adding 1."
      ],
      "text/plain": [
       "Correct: \n",
       "\n",
       "When you add booleans, adding `False` is equivalent to adding 0, and adding `True` is equivalent to adding 1."
      ]
     },
     "metadata": {},
     "output_type": "display_data"
    }
   ],
   "source": [
    "# Check your answer (Run this code cell to receive credit!)\n",
    "q4.check()"
   ]
  },
  {
   "cell_type": "markdown",
   "id": "d7ed40e3",
   "metadata": {
    "papermill": {
     "duration": 0.007531,
     "end_time": "2022-08-03T02:02:17.034650",
     "exception": false,
     "start_time": "2022-08-03T02:02:17.027119",
     "status": "completed"
    },
    "tags": []
   },
   "source": [
    "# 🌶️ Question 5\n",
    "\n",
    "You own an online shop where you sell rings with custom engravings.  You offer both gold plated and solid gold rings.\n",
    "- Gold plated rings have a base cost of \\\\$50, and you charge \\\\$7 per engraved unit.  \n",
    "- Solid gold rings have a base cost of \\\\$100, and you charge \\\\$10 per engraved unit.\n",
    "- Spaces and punctuation are counted as engraved units.\n",
    "\n",
    "Write a function `cost_of_project()` that takes two arguments:\n",
    "- `engraving` - a Python string with the text of the engraving\n",
    "- `solid_gold` - a Boolean that indicates whether the ring is solid gold\n",
    "\n",
    "It should return the cost of the project.  This question should be fairly challenging, and you may need a hint."
   ]
  },
  {
   "cell_type": "code",
   "execution_count": 11,
   "id": "d8672b68",
   "metadata": {
    "execution": {
     "iopub.execute_input": "2022-08-03T02:02:17.052177Z",
     "iopub.status.busy": "2022-08-03T02:02:17.051390Z",
     "iopub.status.idle": "2022-08-03T02:02:17.059514Z",
     "shell.execute_reply": "2022-08-03T02:02:17.058540Z"
    },
    "papermill": {
     "duration": 0.019411,
     "end_time": "2022-08-03T02:02:17.061655",
     "exception": false,
     "start_time": "2022-08-03T02:02:17.042244",
     "status": "completed"
    },
    "tags": []
   },
   "outputs": [
    {
     "data": {
      "application/javascript": "parent.postMessage({\"jupyterEvent\": \"custom.exercise_interaction\", \"data\": {\"outcomeType\": 2, \"failureMessage\": \"Expected return value of `240` given `engraving='Charlie+Denver'`, `solid_gold=True`, but got `<learntools.core.constants.PlaceholderValue object at 0x7f11eec23650>` instead.\", \"interactionType\": 1, \"questionType\": 2, \"questionId\": \"5_CustomEngravings\", \"learnToolsVersion\": \"0.3.4\", \"valueTowardsCompletion\": 0.0, \"exceptionClass\": \"\", \"trace\": \"\"}}, \"*\")",
      "text/plain": [
       "<IPython.core.display.Javascript object>"
      ]
     },
     "metadata": {},
     "output_type": "display_data"
    },
    {
     "data": {
      "text/markdown": [
       "<span style=\"color:#cc3333\">Incorrect:</span> Expected return value of `240` given `engraving='Charlie+Denver'`, `solid_gold=True`, but got `<learntools.core.constants.PlaceholderValue object at 0x7f11eec23650>` instead."
      ],
      "text/plain": [
       "Incorrect: Expected return value of `240` given `engraving='Charlie+Denver'`, `solid_gold=True`, but got `<learntools.core.constants.PlaceholderValue object at 0x7f11eec23650>` instead."
      ]
     },
     "metadata": {},
     "output_type": "display_data"
    }
   ],
   "source": [
    "def cost_of_project(engraving, solid_gold):\n",
    "    cost = ____\n",
    "    return cost\n",
    "\n",
    "# Check your answer\n",
    "q5.check()"
   ]
  },
  {
   "cell_type": "markdown",
   "id": "1da442e5",
   "metadata": {
    "papermill": {
     "duration": 0.007501,
     "end_time": "2022-08-03T02:02:17.100891",
     "exception": false,
     "start_time": "2022-08-03T02:02:17.093390",
     "status": "completed"
    },
    "tags": []
   },
   "source": [
    "Run the next code cell to calculate the cost of engraving `Charlie+Denver` on a solid gold ring."
   ]
  },
  {
   "cell_type": "code",
   "execution_count": 13,
   "id": "1bac0abe",
   "metadata": {
    "execution": {
     "iopub.execute_input": "2022-08-03T02:02:17.118524Z",
     "iopub.status.busy": "2022-08-03T02:02:17.117860Z",
     "iopub.status.idle": "2022-08-03T02:02:17.122884Z",
     "shell.execute_reply": "2022-08-03T02:02:17.121798Z"
    },
    "papermill": {
     "duration": 0.016692,
     "end_time": "2022-08-03T02:02:17.125169",
     "exception": false,
     "start_time": "2022-08-03T02:02:17.108477",
     "status": "completed"
    },
    "tags": []
   },
   "outputs": [
    {
     "name": "stdout",
     "output_type": "stream",
     "text": [
      "<learntools.core.constants.PlaceholderValue object at 0x7f11eec23650>\n"
     ]
    }
   ],
   "source": [
    "project_one = cost_of_project(\"Charlie+Denver\", True)\n",
    "print(project_one)"
   ]
  },
  {
   "cell_type": "markdown",
   "id": "a513ba83",
   "metadata": {
    "papermill": {
     "duration": 0.007424,
     "end_time": "2022-08-03T02:02:17.140529",
     "exception": false,
     "start_time": "2022-08-03T02:02:17.133105",
     "status": "completed"
    },
    "tags": []
   },
   "source": [
    "Use the next code cell to calculate the cost of engraving `08/10/2000` on a gold plated ring."
   ]
  },
  {
   "cell_type": "code",
   "execution_count": 14,
   "id": "eb1f7346",
   "metadata": {
    "execution": {
     "iopub.execute_input": "2022-08-03T02:02:17.158224Z",
     "iopub.status.busy": "2022-08-03T02:02:17.157777Z",
     "iopub.status.idle": "2022-08-03T02:02:17.168337Z",
     "shell.execute_reply": "2022-08-03T02:02:17.166485Z"
    },
    "papermill": {
     "duration": 0.022578,
     "end_time": "2022-08-03T02:02:17.170753",
     "exception": false,
     "start_time": "2022-08-03T02:02:17.148175",
     "status": "completed"
    },
    "tags": []
   },
   "outputs": [
    {
     "name": "stdout",
     "output_type": "stream",
     "text": [
      "<learntools.core.constants.PlaceholderValue object at 0x7f11eec23650>\n"
     ]
    }
   ],
   "source": [
    "project_two = cost_of_project(\"08/10/2000\", False)\n",
    "print(project_two)"
   ]
  }
 ],
 "metadata": {
  "kernelspec": {
   "display_name": "Python 3",
   "language": "python",
   "name": "python3"
  },
  "language_info": {
   "codemirror_mode": {
    "name": "ipython",
    "version": 3
   },
   "file_extension": ".py",
   "mimetype": "text/x-python",
   "name": "python",
   "nbconvert_exporter": "python",
   "pygments_lexer": "ipython3",
   "version": "3.7.12"
  },
  "papermill": {
   "default_parameters": {},
   "duration": 13.270185,
   "end_time": "2022-08-03T02:02:20.232960",
   "environment_variables": {},
   "exception": null,
   "input_path": "__notebook__.ipynb",
   "output_path": "__notebook__.ipynb",
   "parameters": {},
   "start_time": "2022-08-03T02:02:06.962775",
   "version": "2.3.4"
  }
 },
 "nbformat": 4,
 "nbformat_minor": 5
}
