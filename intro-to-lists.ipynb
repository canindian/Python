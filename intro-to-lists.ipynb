{
 "cells": [
  {
   "cell_type": "code",
   "execution_count": 1,
   "id": "1c76d3c1",
   "metadata": {
    "execution": {
     "iopub.execute_input": "2022-08-03T02:04:11.763167Z",
     "iopub.status.busy": "2022-08-03T02:04:11.762475Z",
     "iopub.status.idle": "2022-08-03T02:04:11.824704Z",
     "shell.execute_reply": "2022-08-03T02:04:11.823517Z"
    },
    "papermill": {
     "duration": 0.073285,
     "end_time": "2022-08-03T02:04:11.828240",
     "exception": false,
     "start_time": "2022-08-03T02:04:11.754955",
     "status": "completed"
    },
    "tags": []
   },
   "outputs": [
    {
     "name": "stdout",
     "output_type": "stream",
     "text": [
      "Setup complete.\n"
     ]
    }
   ],
   "source": [
    "from learntools.core import binder\n",
    "binder.bind(globals())\n",
    "from learntools.intro_to_programming.ex5 import *\n",
    "print('Setup complete.')"
   ]
  },
  {
   "cell_type": "markdown",
   "id": "9d8bf841",
   "metadata": {
    "papermill": {
     "duration": 0.006347,
     "end_time": "2022-08-03T02:04:11.841218",
     "exception": false,
     "start_time": "2022-08-03T02:04:11.834871",
     "status": "completed"
    },
    "tags": []
   },
   "source": [
    "# Question 1\n",
    "\n",
    "You own a restaurant with five food dishes, organized in the Python list `menu` below.  One day, you decide to:\n",
    "- remove bean soup (`'bean soup'`) from the menu, and\n",
    "- add roasted beet salad (`'roasted beet salad'`) to the menu.\n",
    "\n",
    "Implement this change to the list below.  While completing this task, \n",
    "- do not change the line that creates the `menu` list.  \n",
    "- your answer should use `.remove()` and `.append()`.  "
   ]
  },
  {
   "cell_type": "code",
   "execution_count": 2,
   "id": "4f1e359a",
   "metadata": {
    "execution": {
     "iopub.execute_input": "2022-08-03T02:04:11.856621Z",
     "iopub.status.busy": "2022-08-03T02:04:11.855893Z",
     "iopub.status.idle": "2022-08-03T02:04:11.866626Z",
     "shell.execute_reply": "2022-08-03T02:04:11.865701Z"
    },
    "papermill": {
     "duration": 0.021316,
     "end_time": "2022-08-03T02:04:11.868873",
     "exception": false,
     "start_time": "2022-08-03T02:04:11.847557",
     "status": "completed"
    },
    "tags": []
   },
   "outputs": [
    {
     "data": {
      "application/javascript": "parent.postMessage({\"jupyterEvent\": \"custom.exercise_interaction\", \"data\": {\"outcomeType\": 1, \"valueTowardsCompletion\": 0.2, \"interactionType\": 1, \"questionType\": 2, \"questionId\": \"1_FoodMenu\", \"learnToolsVersion\": \"0.3.4\", \"failureMessage\": \"\", \"exceptionClass\": \"\", \"trace\": \"\"}}, \"*\")",
      "text/plain": [
       "<IPython.core.display.Javascript object>"
      ]
     },
     "metadata": {},
     "output_type": "display_data"
    },
    {
     "data": {
      "text/markdown": [
       "<span style=\"color:#33cc33\">Correct</span>"
      ],
      "text/plain": [
       "Correct"
      ]
     },
     "metadata": {},
     "output_type": "display_data"
    }
   ],
   "source": [
    "# Do not change: Initial menu for your restaurant\n",
    "menu = ['stewed meat with onions', 'bean soup', 'risotto with trout and shrimp',\n",
    "       'fish soup with cream and onion', 'gyro']\n",
    "\n",
    "# TODO: remove 'bean soup', and add 'roasted beet salad' to the end of the menu\n",
    "____\n",
    "menu.remove('bean soup')\n",
    "menu.append('roasted beet salad')\n",
    "\n",
    "# Do not change: Check your answer\n",
    "q1.check()"
   ]
  },
  {
   "cell_type": "markdown",
   "id": "615c0744",
   "metadata": {
    "papermill": {
     "duration": 0.006101,
     "end_time": "2022-08-03T02:04:11.903543",
     "exception": false,
     "start_time": "2022-08-03T02:04:11.897442",
     "status": "completed"
    },
    "tags": []
   },
   "source": [
    "# Question 2\n",
    "\n",
    "The list `num_customers` contains the number of customers who came into your restaurant every day over the last month (which lasted thirty days).  Fill in values for each of the following:\n",
    "- `avg_first_seven` - average number of customers who visited in the first seven days\n",
    "- `avg_last_seven` - average number of customers who visited in the last seven days\n",
    "- `max_month` - number of customers on the day that got the most customers in the last month\n",
    "- `min_month` - number of customers on the day that got the least customers in the last month\n",
    "\n",
    "Answer this question by writing code.  For instance, if you have to find the minimum value in a list, use `min()` instead of scanning for the smallest value and directly filling in a number."
   ]
  },
  {
   "cell_type": "code",
   "execution_count": 4,
   "id": "f4033ec4",
   "metadata": {
    "execution": {
     "iopub.execute_input": "2022-08-03T02:04:11.918429Z",
     "iopub.status.busy": "2022-08-03T02:04:11.918015Z",
     "iopub.status.idle": "2022-08-03T02:04:11.929011Z",
     "shell.execute_reply": "2022-08-03T02:04:11.927682Z"
    },
    "papermill": {
     "duration": 0.02139,
     "end_time": "2022-08-03T02:04:11.931269",
     "exception": false,
     "start_time": "2022-08-03T02:04:11.909879",
     "status": "completed"
    },
    "tags": []
   },
   "outputs": [
    {
     "data": {
      "application/javascript": "parent.postMessage({\"jupyterEvent\": \"custom.exercise_interaction\", \"data\": {\"outcomeType\": 1, \"valueTowardsCompletion\": 0.2, \"interactionType\": 1, \"questionType\": 1, \"questionId\": \"2_NumCustomers\", \"learnToolsVersion\": \"0.3.4\", \"failureMessage\": \"\", \"exceptionClass\": \"\", \"trace\": \"\"}}, \"*\")",
      "text/plain": [
       "<IPython.core.display.Javascript object>"
      ]
     },
     "metadata": {},
     "output_type": "display_data"
    },
    {
     "data": {
      "text/markdown": [
       "<span style=\"color:#33cc33\">Correct</span>"
      ],
      "text/plain": [
       "Correct"
      ]
     },
     "metadata": {},
     "output_type": "display_data"
    }
   ],
   "source": [
    "# Do not change: Number of customers each day for the last month\n",
    "num_customers = [137, 147, 135, 128, 170, 174, 165, 146, 126, 159,\n",
    "                 141, 148, 132, 147, 168, 153, 170, 161, 148, 152,\n",
    "                 141, 151, 131, 149, 164, 163, 143, 143, 166, 171]\n",
    "\n",
    "# TODO: Fill in values for the variables below\n",
    "avg_first_seven = sum(num_customers[:7])/7 \n",
    "avg_last_seven = sum(num_customers[-7:])/7\n",
    "max_month = max(num_customers)\n",
    "min_month = min(num_customers)\n",
    "\n",
    "# Do not change: Check your answer\n",
    "q2.check()"
   ]
  },
  {
   "cell_type": "markdown",
   "id": "bab2456c",
   "metadata": {
    "papermill": {
     "duration": 0.006381,
     "end_time": "2022-08-03T02:04:11.965957",
     "exception": false,
     "start_time": "2022-08-03T02:04:11.959576",
     "status": "completed"
    },
    "tags": []
   },
   "source": [
    "# Question 3\n",
    "\n",
    "In the tutorial, we gave an example of a Python string with information that was better as a list."
   ]
  },
  {
   "cell_type": "code",
   "execution_count": 6,
   "id": "11bbf026",
   "metadata": {
    "execution": {
     "iopub.execute_input": "2022-08-03T02:04:11.981211Z",
     "iopub.status.busy": "2022-08-03T02:04:11.980479Z",
     "iopub.status.idle": "2022-08-03T02:04:11.984939Z",
     "shell.execute_reply": "2022-08-03T02:04:11.984012Z"
    },
    "papermill": {
     "duration": 0.014481,
     "end_time": "2022-08-03T02:04:11.987073",
     "exception": false,
     "start_time": "2022-08-03T02:04:11.972592",
     "status": "completed"
    },
    "tags": []
   },
   "outputs": [],
   "source": [
    "flowers = \"pink primrose,hard-leaved pocket orchid,canterbury bells,sweet pea,english marigold,tiger lily,moon orchid,bird of paradise,monkshood,globe thistle\""
   ]
  },
  {
   "cell_type": "markdown",
   "id": "2803d4bb",
   "metadata": {
    "papermill": {
     "duration": 0.006232,
     "end_time": "2022-08-03T02:04:12.000009",
     "exception": false,
     "start_time": "2022-08-03T02:04:11.993777",
     "status": "completed"
    },
    "tags": []
   },
   "source": [
    "You can actually use Python to quickly turn this string into a list with `.split()`.  In the parentheses, we need to provide the character should be used to mark the end of one list item and the beginning of another, and enclose it in quotation marks.  In this case, that character is a comma."
   ]
  },
  {
   "cell_type": "code",
   "execution_count": 7,
   "id": "3cc3102b",
   "metadata": {
    "execution": {
     "iopub.execute_input": "2022-08-03T02:04:12.015299Z",
     "iopub.status.busy": "2022-08-03T02:04:12.014580Z",
     "iopub.status.idle": "2022-08-03T02:04:12.020549Z",
     "shell.execute_reply": "2022-08-03T02:04:12.019217Z"
    },
    "papermill": {
     "duration": 0.016644,
     "end_time": "2022-08-03T02:04:12.023251",
     "exception": false,
     "start_time": "2022-08-03T02:04:12.006607",
     "status": "completed"
    },
    "tags": []
   },
   "outputs": [
    {
     "name": "stdout",
     "output_type": "stream",
     "text": [
      "['pink primrose', 'hard-leaved pocket orchid', 'canterbury bells', 'sweet pea', 'english marigold', 'tiger lily', 'moon orchid', 'bird of paradise', 'monkshood', 'globe thistle']\n"
     ]
    }
   ],
   "source": [
    " print(flowers.split(\",\"))"
   ]
  },
  {
   "cell_type": "markdown",
   "id": "ea6a80ac",
   "metadata": {
    "papermill": {
     "duration": 0.006555,
     "end_time": "2022-08-03T02:04:12.037480",
     "exception": false,
     "start_time": "2022-08-03T02:04:12.030925",
     "status": "completed"
    },
    "tags": []
   },
   "source": [
    "Now it is your turn to try this out!  Create two Python lists:\n",
    "- `letters` should be a Python list where each entry is an uppercase letter of the English alphabet.  For instance, the first two entries should be `\"A\"` and `\"B\"`, and the final two entries should be `\"Y\"` and `\"Z\"`.  Use the string `alphabet` to create this list.\n",
    "- `address` should be a Python list where each row in `address` is a different item in the list.  Currently, each row in `address` is separated by a comma. "
   ]
  },
  {
   "cell_type": "code",
   "execution_count": 8,
   "id": "75cb6184",
   "metadata": {
    "execution": {
     "iopub.execute_input": "2022-08-03T02:04:12.052979Z",
     "iopub.status.busy": "2022-08-03T02:04:12.052579Z",
     "iopub.status.idle": "2022-08-03T02:04:12.062102Z",
     "shell.execute_reply": "2022-08-03T02:04:12.060887Z"
    },
    "papermill": {
     "duration": 0.020247,
     "end_time": "2022-08-03T02:04:12.064372",
     "exception": false,
     "start_time": "2022-08-03T02:04:12.044125",
     "status": "completed"
    },
    "tags": []
   },
   "outputs": [
    {
     "data": {
      "application/javascript": "parent.postMessage({\"jupyterEvent\": \"custom.exercise_interaction\", \"data\": {\"outcomeType\": 1, \"valueTowardsCompletion\": 0.2, \"interactionType\": 1, \"questionType\": 1, \"questionId\": \"3_SplitString\", \"learnToolsVersion\": \"0.3.4\", \"failureMessage\": \"\", \"exceptionClass\": \"\", \"trace\": \"\"}}, \"*\")",
      "text/plain": [
       "<IPython.core.display.Javascript object>"
      ]
     },
     "metadata": {},
     "output_type": "display_data"
    },
    {
     "data": {
      "text/markdown": [
       "<span style=\"color:#33cc33\">Correct</span>"
      ],
      "text/plain": [
       "Correct"
      ]
     },
     "metadata": {},
     "output_type": "display_data"
    }
   ],
   "source": [
    "# DO not change: Define two Python strings\n",
    "alphabet = \"A.B.C.D.E.F.G.H.I.J.K.L.M.N.O.P.Q.R.S.T.U.V.W.X.Y.Z\"\n",
    "address = \"Mr. H. Potter,The cupboard under the Stairs,4 Privet Drive,Little Whinging,Surrey\"\n",
    "\n",
    "# TODO: Convert strings into Python lists\n",
    "letters = alphabet.split(\".\")\n",
    "formatted_address = address.split(\",\")\n",
    "\n",
    "# Do not change: Check your answer\n",
    "q3.check()"
   ]
  },
  {
   "cell_type": "markdown",
   "id": "5d5ce8a2",
   "metadata": {
    "papermill": {
     "duration": 0.006938,
     "end_time": "2022-08-03T02:04:12.099997",
     "exception": false,
     "start_time": "2022-08-03T02:04:12.093059",
     "status": "completed"
    },
    "tags": []
   },
   "source": [
    "# Question 4\n",
    "\n",
    "In the Python course, you'll learn all about **list comprehensions**, which allow you to create a list based on the values in another list.  In this question, you'll get a brief preview of how they work.\n",
    "\n",
    "Say we're working with the list below."
   ]
  },
  {
   "cell_type": "code",
   "execution_count": 10,
   "id": "8e0bc09f",
   "metadata": {
    "execution": {
     "iopub.execute_input": "2022-08-03T02:04:12.115606Z",
     "iopub.status.busy": "2022-08-03T02:04:12.115171Z",
     "iopub.status.idle": "2022-08-03T02:04:12.120557Z",
     "shell.execute_reply": "2022-08-03T02:04:12.119154Z"
    },
    "papermill": {
     "duration": 0.016011,
     "end_time": "2022-08-03T02:04:12.123046",
     "exception": false,
     "start_time": "2022-08-03T02:04:12.107035",
     "status": "completed"
    },
    "tags": []
   },
   "outputs": [],
   "source": [
    "test_ratings = [1, 2, 3, 4, 5]"
   ]
  },
  {
   "cell_type": "markdown",
   "id": "a9aebb5e",
   "metadata": {
    "papermill": {
     "duration": 0.007411,
     "end_time": "2022-08-03T02:04:12.137414",
     "exception": false,
     "start_time": "2022-08-03T02:04:12.130003",
     "status": "completed"
    },
    "tags": []
   },
   "source": [
    "Then we can use this list (`test_ratings`) to create a new list (`test_liked`) where each item has been turned into a boolean, depending on whether or not the item is greater than or equal to four."
   ]
  },
  {
   "cell_type": "code",
   "execution_count": 11,
   "id": "a9b15ce1",
   "metadata": {
    "execution": {
     "iopub.execute_input": "2022-08-03T02:04:12.153806Z",
     "iopub.status.busy": "2022-08-03T02:04:12.153360Z",
     "iopub.status.idle": "2022-08-03T02:04:12.159302Z",
     "shell.execute_reply": "2022-08-03T02:04:12.158162Z"
    },
    "papermill": {
     "duration": 0.016993,
     "end_time": "2022-08-03T02:04:12.161652",
     "exception": false,
     "start_time": "2022-08-03T02:04:12.144659",
     "status": "completed"
    },
    "tags": []
   },
   "outputs": [
    {
     "name": "stdout",
     "output_type": "stream",
     "text": [
      "[False, False, False, True, True]\n"
     ]
    }
   ],
   "source": [
    "test_liked = [i>=4 for i in test_ratings]\n",
    "print(test_liked)"
   ]
  },
  {
   "cell_type": "markdown",
   "id": "47589048",
   "metadata": {
    "papermill": {
     "duration": 0.00683,
     "end_time": "2022-08-03T02:04:12.175897",
     "exception": false,
     "start_time": "2022-08-03T02:04:12.169067",
     "status": "completed"
    },
    "tags": []
   },
   "source": [
    "In this question, you'll use this list comprehension to define a function `percentage_liked()` that takes one argument as input:\n",
    "- `ratings`: list of ratings that people gave to a movie, where each rating is a number between 1-5, inclusive\n",
    "\n",
    "We say someone liked the movie, if they gave a rating of either 4 or 5.  Your function should return the percentage of people who liked the movie.\n",
    "\n",
    "For instance, if we supply a value of `[1, 2, 3, 4, 5, 4, 5, 1]`, then 50% (4/8) of the people liked the movie, and the function should return `0.5`.\n",
    "\n",
    "Part of the function has already been completed for you.  You need only use `list_liked` to calculate `percentage_liked`."
   ]
  },
  {
   "cell_type": "code",
   "execution_count": 12,
   "id": "7b747640",
   "metadata": {
    "execution": {
     "iopub.execute_input": "2022-08-03T02:04:12.192334Z",
     "iopub.status.busy": "2022-08-03T02:04:12.191660Z",
     "iopub.status.idle": "2022-08-03T02:04:12.201837Z",
     "shell.execute_reply": "2022-08-03T02:04:12.200339Z"
    },
    "papermill": {
     "duration": 0.021443,
     "end_time": "2022-08-03T02:04:12.204496",
     "exception": false,
     "start_time": "2022-08-03T02:04:12.183053",
     "status": "completed"
    },
    "tags": []
   },
   "outputs": [
    {
     "data": {
      "application/javascript": "parent.postMessage({\"jupyterEvent\": \"custom.exercise_interaction\", \"data\": {\"outcomeType\": 1, \"valueTowardsCompletion\": 0.2, \"interactionType\": 1, \"questionType\": 2, \"questionId\": \"4_PercentageLiked\", \"learnToolsVersion\": \"0.3.4\", \"failureMessage\": \"\", \"exceptionClass\": \"\", \"trace\": \"\"}}, \"*\")",
      "text/plain": [
       "<IPython.core.display.Javascript object>"
      ]
     },
     "metadata": {},
     "output_type": "display_data"
    },
    {
     "data": {
      "text/markdown": [
       "<span style=\"color:#33cc33\">Correct</span>"
      ],
      "text/plain": [
       "Correct"
      ]
     },
     "metadata": {},
     "output_type": "display_data"
    }
   ],
   "source": [
    "\n",
    "def percentage_liked(ratings):\n",
    "    list_liked = [i >= 4 for i in ratings]\n",
    "    percentage_liked = sum(list_liked)/len(list_liked)\n",
    "    return percentage_liked\n",
    "# Do not change: should return 0.5\n",
    "percentage_liked([1, 2, 3, 4, 5, 4, 5, 1])\n",
    "\n",
    "# Do not change: Check your answer\n",
    "q4.check()"
   ]
  },
  {
   "cell_type": "markdown",
   "id": "f4e2051d",
   "metadata": {
    "papermill": {
     "duration": 0.007535,
     "end_time": "2022-08-03T02:04:12.242229",
     "exception": false,
     "start_time": "2022-08-03T02:04:12.234694",
     "status": "completed"
    },
    "tags": []
   },
   "source": [
    "# 🌶️ Question 5\n",
    " \n",
    "Say you're doing analytics for a website.  You need to write a function that returns the percentage growth in the total number of users relative to a specified number of years ago.\n",
    "\n",
    "Your function `percentage_growth()` should take two arguments as input:\n",
    "- `num_users` = Python list with the total number of users each year.  So `num_users[0]` is the total number of users in the first year, `num_users[1]` is the total number of users in the second year, and so on.  The final entry in the list gives the total number of users in the most recently completed year.\n",
    "- `yrs_ago` = number of years to go back in time when calculating the growth percentage\n",
    "\n",
    "For instance, say `num_users = [920344, 1043553, 1204334, 1458996, 1503323, 1593432, 1623463, 1843064, 1930992, 2001078]`.\n",
    "- if `yrs_ago = 1`, we want the function to return a value of about `0.036`. This corresponds to a percentage growth of approximately 3.6%, calculated as (2001078 - 1930992)/1930992.\n",
    "- if `years_ago = 7`, we would want to return approximately `0.66`.  This corresponds to a percentage growth of approximately 66%, calculated as (2001078 - 1204334)/1204334.\n",
    "\n",
    "Your coworker sent you a draft of a function, but it doesn't seem to be doing the correct calculation.  Can you figure out what has gone wrong and make the needed changes?"
   ]
  },
  {
   "cell_type": "code",
   "execution_count": 14,
   "id": "c824a356",
   "metadata": {
    "execution": {
     "iopub.execute_input": "2022-08-03T02:04:12.260641Z",
     "iopub.status.busy": "2022-08-03T02:04:12.259431Z",
     "iopub.status.idle": "2022-08-03T02:04:12.273851Z",
     "shell.execute_reply": "2022-08-03T02:04:12.272288Z"
    },
    "papermill": {
     "duration": 0.026023,
     "end_time": "2022-08-03T02:04:12.276325",
     "exception": false,
     "start_time": "2022-08-03T02:04:12.250302",
     "status": "completed"
    },
    "tags": []
   },
   "outputs": [
    {
     "name": "stdout",
     "output_type": "stream",
     "text": [
      "0.03629533421163837\n",
      "0.6615639847417742\n"
     ]
    },
    {
     "data": {
      "application/javascript": "parent.postMessage({\"jupyterEvent\": \"custom.exercise_interaction\", \"data\": {\"outcomeType\": 1, \"valueTowardsCompletion\": 0.2, \"interactionType\": 1, \"questionType\": 2, \"questionId\": \"5_WebsiteAnalytics\", \"learnToolsVersion\": \"0.3.4\", \"failureMessage\": \"\", \"exceptionClass\": \"\", \"trace\": \"\"}}, \"*\")",
      "text/plain": [
       "<IPython.core.display.Javascript object>"
      ]
     },
     "metadata": {},
     "output_type": "display_data"
    },
    {
     "data": {
      "text/markdown": [
       "<span style=\"color:#33cc33\">Correct</span>"
      ],
      "text/plain": [
       "Correct"
      ]
     },
     "metadata": {},
     "output_type": "display_data"
    }
   ],
   "source": [
    "# TODO: Edit the function\n",
    "def percentage_growth(num_users, yrs_ago):\n",
    "    growth = (num_users[len(num_users)-1] - num_users[len(num_users)-yrs_ago-1])/num_users[len(num_users)-yrs_ago-1]\n",
    "    return growth\n",
    "\n",
    "# Do not change: Variable for calculating some test examples\n",
    "num_users_test = [920344, 1043553, 1204334, 1458996, 1503323, 1593432, 1623463, 1843064, 1930992, 2001078]\n",
    "\n",
    "# Do not change: Should return .036\n",
    "print(percentage_growth(num_users_test, 1))\n",
    "\n",
    "# Do not change: Should return 0.66\n",
    "print(percentage_growth(num_users_test, 7))\n",
    "\n",
    "# Do not change: Check your answer\n",
    "q5.check()"
   ]
  }
 ],
 "metadata": {
  "kernelspec": {
   "display_name": "Python 3",
   "language": "python",
   "name": "python3"
  },
  "language_info": {
   "codemirror_mode": {
    "name": "ipython",
    "version": 3
   },
   "file_extension": ".py",
   "mimetype": "text/x-python",
   "name": "python",
   "nbconvert_exporter": "python",
   "pygments_lexer": "ipython3",
   "version": "3.7.12"
  },
  "papermill": {
   "default_parameters": {},
   "duration": 10.946297,
   "end_time": "2022-08-03T02:04:13.061503",
   "environment_variables": {},
   "exception": null,
   "input_path": "__notebook__.ipynb",
   "output_path": "__notebook__.ipynb",
   "parameters": {},
   "start_time": "2022-08-03T02:04:02.115206",
   "version": "2.3.4"
  }
 },
 "nbformat": 4,
 "nbformat_minor": 5
}
