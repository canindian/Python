{
 "cells": [
  {
   "cell_type": "code",
   "execution_count": 1,
   "id": "6fcfc479",
   "metadata": {
    "execution": {
     "iopub.execute_input": "2022-08-03T01:52:09.830683Z",
     "iopub.status.busy": "2022-08-03T01:52:09.829784Z",
     "iopub.status.idle": "2022-08-03T01:52:09.879475Z",
     "shell.execute_reply": "2022-08-03T01:52:09.878182Z"
    },
    "papermill": {
     "duration": 0.059774,
     "end_time": "2022-08-03T01:52:09.882238",
     "exception": false,
     "start_time": "2022-08-03T01:52:09.822464",
     "status": "completed"
    },
    "tags": []
   },
   "outputs": [
    {
     "name": "stdout",
     "output_type": "stream",
     "text": [
      "Setup complete.\n"
     ]
    }
   ],
   "source": [
    "# Set up the exercise\n",
    "import math\n",
    "from learntools.core import binder\n",
    "binder.bind(globals())\n",
    "from learntools.intro_to_programming.ex2 import *\n",
    "print('Setup complete.')"
   ]
  },
  {
   "cell_type": "markdown",
   "id": "1b0b4a4a",
   "metadata": {
    "papermill": {
     "duration": 0.005487,
     "end_time": "2022-08-03T01:52:09.893661",
     "exception": false,
     "start_time": "2022-08-03T01:52:09.888174",
     "status": "completed"
    },
    "tags": []
   },
   "source": [
    "# Question 1\n",
    "\n",
    "In the [House Prices - Advanced Regression Techniques competition](https://www.kaggle.com/c/house-prices-advanced-regression-techniques/overview), you need to use information like the number of bedrooms and bathrooms to predict the price of a house.  Inspired by this competition, you'll write your own function to do this.\n",
    "\n",
    "In the next code cell, create a function `get_expected_cost()` that has two arguments:\n",
    "- `beds` - number of bedrooms \n",
    "- `baths` - number of bathrooms\n",
    "\n",
    "It should return the expected cost of a house with that number of bedrooms and bathrooms.  Assume that:\n",
    "- the expected cost for a house with 0 bedrooms and 0 bathrooms is `80000`.  \n",
    "- each bedroom adds `30000` to the expected cost\n",
    "- each bathroom adds `10000` to the expected cost.\n",
    "\n",
    "For instance, \n",
    "- a house with 1 bedroom and 1 bathroom has an expected cost of `120000`, and \n",
    "- a house with 2 bedrooms and 1 bathroom has an expected cost of `150000`."
   ]
  },
  {
   "cell_type": "code",
   "execution_count": 2,
   "id": "385ea0b2",
   "metadata": {
    "execution": {
     "iopub.execute_input": "2022-08-03T01:52:09.908051Z",
     "iopub.status.busy": "2022-08-03T01:52:09.907654Z",
     "iopub.status.idle": "2022-08-03T01:52:09.919220Z",
     "shell.execute_reply": "2022-08-03T01:52:09.918295Z"
    },
    "papermill": {
     "duration": 0.022156,
     "end_time": "2022-08-03T01:52:09.921296",
     "exception": false,
     "start_time": "2022-08-03T01:52:09.899140",
     "status": "completed"
    },
    "tags": []
   },
   "outputs": [
    {
     "data": {
      "application/javascript": "parent.postMessage({\"jupyterEvent\": \"custom.exercise_interaction\", \"data\": {\"outcomeType\": 1, \"valueTowardsCompletion\": 0.2, \"interactionType\": 1, \"questionType\": 2, \"questionId\": \"1_GetExpectedCost\", \"learnToolsVersion\": \"0.3.4\", \"failureMessage\": \"\", \"exceptionClass\": \"\", \"trace\": \"\"}}, \"*\")",
      "text/plain": [
       "<IPython.core.display.Javascript object>"
      ]
     },
     "metadata": {},
     "output_type": "display_data"
    },
    {
     "data": {
      "text/markdown": [
       "<span style=\"color:#33cc33\">Correct</span>"
      ],
      "text/plain": [
       "Correct"
      ]
     },
     "metadata": {},
     "output_type": "display_data"
    }
   ],
   "source": [
    "# TODO: Complete the function\n",
    "def get_expected_cost(beds, baths):\n",
    "    value = 80000 + 30000 * beds + 10000 * baths\n",
    "    return value\n",
    "\n",
    "# Check your answer \n",
    "q1.check()\n"
   ]
  },
  {
   "cell_type": "markdown",
   "id": "dc057429",
   "metadata": {
    "papermill": {
     "duration": 0.005638,
     "end_time": "2022-08-03T01:52:09.953302",
     "exception": false,
     "start_time": "2022-08-03T01:52:09.947664",
     "status": "completed"
    },
    "tags": []
   },
   "source": [
    "# Question 2\n",
    "\n",
    "You are thinking about buying a home and want to get an idea of how much you will spend, based on the number of bedrooms and bathrooms.  You are trying to decide between four different options:\n",
    "- Option 1: house with two bedrooms and three bathrooms\n",
    "- Option 2: house with three bedrooms and two bathrooms\n",
    "- Option 3: house with three bedrooms and three bathrooms\n",
    "- Option 4: house with three bedrooms and four bathrooms\n",
    "\n",
    "Use the `get_expected_cost()` function you defined in question 1 to set `option_1`, `option_2`, `option_3`, and `option_4` to the expected cost of each option."
   ]
  },
  {
   "cell_type": "code",
   "execution_count": 4,
   "id": "989d5f51",
   "metadata": {
    "execution": {
     "iopub.execute_input": "2022-08-03T01:52:09.967456Z",
     "iopub.status.busy": "2022-08-03T01:52:09.966637Z",
     "iopub.status.idle": "2022-08-03T01:52:09.979029Z",
     "shell.execute_reply": "2022-08-03T01:52:09.977659Z"
    },
    "papermill": {
     "duration": 0.02225,
     "end_time": "2022-08-03T01:52:09.981413",
     "exception": false,
     "start_time": "2022-08-03T01:52:09.959163",
     "status": "completed"
    },
    "tags": []
   },
   "outputs": [
    {
     "name": "stdout",
     "output_type": "stream",
     "text": [
      "170000\n",
      "190000\n",
      "200000\n",
      "210000\n"
     ]
    },
    {
     "data": {
      "application/javascript": "parent.postMessage({\"jupyterEvent\": \"custom.exercise_interaction\", \"data\": {\"outcomeType\": 1, \"valueTowardsCompletion\": 0.2, \"interactionType\": 1, \"questionType\": 1, \"questionId\": \"2_RunGetExpectedCost\", \"learnToolsVersion\": \"0.3.4\", \"failureMessage\": \"\", \"exceptionClass\": \"\", \"trace\": \"\"}}, \"*\")",
      "text/plain": [
       "<IPython.core.display.Javascript object>"
      ]
     },
     "metadata": {},
     "output_type": "display_data"
    },
    {
     "data": {
      "text/markdown": [
       "<span style=\"color:#33cc33\">Correct</span>"
      ],
      "text/plain": [
       "Correct"
      ]
     },
     "metadata": {},
     "output_type": "display_data"
    }
   ],
   "source": [
    "# TODO: Use the get_expected_cost function to fill in each value\n",
    "option_one = get_expected_cost(2, 3)\n",
    "option_two = get_expected_cost(3, 2)\n",
    "option_three = get_expected_cost(3, 3)\n",
    "option_four = get_expected_cost(3, 4)\n",
    "\n",
    "print(option_one)\n",
    "print(option_two)\n",
    "print(option_three)\n",
    "print(option_four)\n",
    "\n",
    "# Check your answer\n",
    "q2.check()"
   ]
  },
  {
   "cell_type": "markdown",
   "id": "81826e9b",
   "metadata": {
    "papermill": {
     "duration": 0.00603,
     "end_time": "2022-08-03T01:52:10.014285",
     "exception": false,
     "start_time": "2022-08-03T01:52:10.008255",
     "status": "completed"
    },
    "tags": []
   },
   "source": [
    "# Question 3\n",
    "\n",
    "You're a home decorator, and you'd like to use Python to streamline some of your work.  Specifically, you're creating a tool that you intend to use to calculate the cost of painting a room.\n",
    "\n",
    "As a first step, define a function `get_cost()` that takes as input:\n",
    "- `sqft_walls` = total square feet of walls to be painted\n",
    "- `sqft_ceiling` = square feet of ceiling to be painted\n",
    "- `sqft_per_gallon` = number of square feet that you can cover with one gallon of paint\n",
    "- `cost_per_gallon` = cost (in dollars) of one gallon of paint\n",
    "\n",
    "It should return the cost (in dollars) of putting one coat of paint on all walls and the ceiling.  Assume you can buy the exact amount of paint that you need, so you can buy partial gallons (e.g., if you need 7.523 gallons, you can buy that exact amount, instead of needing to buy 8 gallons and waste some paint).  Do not round your answer."
   ]
  },
  {
   "cell_type": "code",
   "execution_count": 6,
   "id": "b27f5d59",
   "metadata": {
    "execution": {
     "iopub.execute_input": "2022-08-03T01:52:10.028970Z",
     "iopub.status.busy": "2022-08-03T01:52:10.028277Z",
     "iopub.status.idle": "2022-08-03T01:52:10.037989Z",
     "shell.execute_reply": "2022-08-03T01:52:10.037148Z"
    },
    "papermill": {
     "duration": 0.019654,
     "end_time": "2022-08-03T01:52:10.040161",
     "exception": false,
     "start_time": "2022-08-03T01:52:10.020507",
     "status": "completed"
    },
    "tags": []
   },
   "outputs": [
    {
     "data": {
      "application/javascript": "parent.postMessage({\"jupyterEvent\": \"custom.exercise_interaction\", \"data\": {\"outcomeType\": 1, \"valueTowardsCompletion\": 0.2, \"interactionType\": 1, \"questionType\": 2, \"questionId\": \"3_GetCostPaint\", \"learnToolsVersion\": \"0.3.4\", \"failureMessage\": \"\", \"exceptionClass\": \"\", \"trace\": \"\"}}, \"*\")",
      "text/plain": [
       "<IPython.core.display.Javascript object>"
      ]
     },
     "metadata": {},
     "output_type": "display_data"
    },
    {
     "data": {
      "text/markdown": [
       "<span style=\"color:#33cc33\">Correct</span>"
      ],
      "text/plain": [
       "Correct"
      ]
     },
     "metadata": {},
     "output_type": "display_data"
    }
   ],
   "source": [
    "# TODO: Finish defining the function\n",
    "def get_cost(sqft_walls, sqft_ceiling, sqft_per_gallon, cost_per_gallon):\n",
    "    total_sqft = sqft_walls + sqft_ceiling\n",
    "    gallons_needed = total_sqft / sqft_per_gallon\n",
    "    cost = cost_per_gallon * gallons_needed\n",
    "    return cost\n",
    "\n",
    "# Check your answer\n",
    "q3.check()"
   ]
  },
  {
   "cell_type": "markdown",
   "id": "0cc3854a",
   "metadata": {
    "papermill": {
     "duration": 0.006408,
     "end_time": "2022-08-03T01:52:10.073888",
     "exception": false,
     "start_time": "2022-08-03T01:52:10.067480",
     "status": "completed"
    },
    "tags": []
   },
   "source": [
    "# Question 4\n",
    "\n",
    "Use the `get_cost()` function you defined in Question 3 to calculate the cost of applying one coat of paint to a room with:\n",
    "- 432 square feet of walls, and\n",
    "- 144 square feet of ceiling.\n",
    "\n",
    "Assume that one gallon of paint covers 400 square feet and costs $15.  As in Question 3, assume you can buy partial gallons of paint.  Do not round your answer."
   ]
  },
  {
   "cell_type": "code",
   "execution_count": 8,
   "id": "7b180df4",
   "metadata": {
    "execution": {
     "iopub.execute_input": "2022-08-03T01:52:10.089609Z",
     "iopub.status.busy": "2022-08-03T01:52:10.088928Z",
     "iopub.status.idle": "2022-08-03T01:52:10.098064Z",
     "shell.execute_reply": "2022-08-03T01:52:10.097184Z"
    },
    "papermill": {
     "duration": 0.019223,
     "end_time": "2022-08-03T01:52:10.100166",
     "exception": false,
     "start_time": "2022-08-03T01:52:10.080943",
     "status": "completed"
    },
    "tags": []
   },
   "outputs": [
    {
     "data": {
      "application/javascript": "parent.postMessage({\"jupyterEvent\": \"custom.exercise_interaction\", \"data\": {\"outcomeType\": 1, \"valueTowardsCompletion\": 0.2, \"interactionType\": 1, \"questionType\": 1, \"questionId\": \"4_GetCostPaintExample\", \"learnToolsVersion\": \"0.3.4\", \"failureMessage\": \"\", \"exceptionClass\": \"\", \"trace\": \"\"}}, \"*\")",
      "text/plain": [
       "<IPython.core.display.Javascript object>"
      ]
     },
     "metadata": {},
     "output_type": "display_data"
    },
    {
     "data": {
      "text/markdown": [
       "<span style=\"color:#33cc33\">Correct</span>"
      ],
      "text/plain": [
       "Correct"
      ]
     },
     "metadata": {},
     "output_type": "display_data"
    }
   ],
   "source": [
    "# Set the project_cost variable to the cost of the project\n",
    "project_cost = get_cost(432, 144, 400, 15) \n",
    "\n",
    "# Check your answer\n",
    "q4.check()"
   ]
  },
  {
   "cell_type": "markdown",
   "id": "35e41d23",
   "metadata": {
    "papermill": {
     "duration": 0.006478,
     "end_time": "2022-08-03T01:52:10.135459",
     "exception": false,
     "start_time": "2022-08-03T01:52:10.128981",
     "status": "completed"
    },
    "tags": []
   },
   "source": [
    "# 🌶️ Question 5\n",
    "\n",
    "Now say you can no longer buy fractions of a gallon.  (For instance, if you need 4.3 gallons to do a project, then you have to buy 5 gallons of paint.)\n",
    "\n",
    "With this new scenario, you will create a new function `get_actual_cost` that uses the same inputs and calculates the cost of your project.\n",
    "\n",
    "One function that you'll need to use to do this is `math.ceil()`.  We demonstrate usage of this function in the code cell below.  It takes as a number as input and rounds the number up to the nearest integer.  \n",
    "\n",
    "Run the next code cell to test this function for yourself.  Feel free to change the value of `test_value` and make sure `math.ceil()` returns the number you expect."
   ]
  },
  {
   "cell_type": "code",
   "execution_count": 10,
   "id": "d1f3e6f4",
   "metadata": {
    "execution": {
     "iopub.execute_input": "2022-08-03T01:52:10.151098Z",
     "iopub.status.busy": "2022-08-03T01:52:10.150437Z",
     "iopub.status.idle": "2022-08-03T01:52:10.156958Z",
     "shell.execute_reply": "2022-08-03T01:52:10.155507Z"
    },
    "papermill": {
     "duration": 0.017902,
     "end_time": "2022-08-03T01:52:10.160057",
     "exception": false,
     "start_time": "2022-08-03T01:52:10.142155",
     "status": "completed"
    },
    "tags": []
   },
   "outputs": [
    {
     "name": "stdout",
     "output_type": "stream",
     "text": [
      "3\n"
     ]
    }
   ],
   "source": [
    "test_value = 2.17\n",
    "\n",
    "rounded_value = math.ceil(test_value)\n",
    "print(rounded_value)"
   ]
  },
  {
   "cell_type": "markdown",
   "id": "01001825",
   "metadata": {
    "papermill": {
     "duration": 0.006641,
     "end_time": "2022-08-03T01:52:10.174090",
     "exception": false,
     "start_time": "2022-08-03T01:52:10.167449",
     "status": "completed"
    },
    "tags": []
   },
   "source": [
    "Use the next code cell to define the function `get_actual_cost()`.  You'll need to use the `math.ceil()` function to do this.\n",
    "\n",
    "When answering this question, note that it's completely valid to define a function that makes use of another function.  For instance, we can define a function `round_up_and_divide_by_three` that makes use of the `math.ceil` function:\n",
    "```\n",
    "def round_up_and_divide_by_three(num):\n",
    "    new_value = math.ceil(num)\n",
    "    final_value = new_value / 3\n",
    "    return final_value\n",
    "```"
   ]
  },
  {
   "cell_type": "code",
   "execution_count": 11,
   "id": "d7f662b2",
   "metadata": {
    "execution": {
     "iopub.execute_input": "2022-08-03T01:52:10.190957Z",
     "iopub.status.busy": "2022-08-03T01:52:10.189767Z",
     "iopub.status.idle": "2022-08-03T01:52:10.199957Z",
     "shell.execute_reply": "2022-08-03T01:52:10.198754Z"
    },
    "papermill": {
     "duration": 0.021078,
     "end_time": "2022-08-03T01:52:10.202213",
     "exception": false,
     "start_time": "2022-08-03T01:52:10.181135",
     "status": "completed"
    },
    "tags": []
   },
   "outputs": [
    {
     "data": {
      "application/javascript": "parent.postMessage({\"jupyterEvent\": \"custom.exercise_interaction\", \"data\": {\"outcomeType\": 1, \"valueTowardsCompletion\": 0.2, \"interactionType\": 1, \"questionType\": 2, \"questionId\": \"5_NoMoreFractions\", \"learnToolsVersion\": \"0.3.4\", \"failureMessage\": \"\", \"exceptionClass\": \"\", \"trace\": \"\"}}, \"*\")",
      "text/plain": [
       "<IPython.core.display.Javascript object>"
      ]
     },
     "metadata": {},
     "output_type": "display_data"
    },
    {
     "data": {
      "text/markdown": [
       "<span style=\"color:#33cc33\">Correct</span>"
      ],
      "text/plain": [
       "Correct"
      ]
     },
     "metadata": {},
     "output_type": "display_data"
    }
   ],
   "source": [
    "def get_actual_cost(sqft_walls, sqft_ceiling, sqft_per_gallon, cost_per_gallon):\n",
    "    total_sqft = sqft_walls + sqft_ceiling\n",
    "    gallons_needed = total_sqft / sqft_per_gallon\n",
    "    gallons_to_buy = math.ceil(gallons_needed)\n",
    "    cost = cost_per_gallon * gallons_to_buy\n",
    "    return cost\n",
    "\n",
    "# Check your answer\n",
    "q5.check()"
   ]
  },
  {
   "cell_type": "markdown",
   "id": "d00212d6",
   "metadata": {
    "papermill": {
     "duration": 0.006841,
     "end_time": "2022-08-03T01:52:10.237767",
     "exception": false,
     "start_time": "2022-08-03T01:52:10.230926",
     "status": "completed"
    },
    "tags": []
   },
   "source": [
    "Once your function is verified as correct, run the next code cell to calculate the updated cost of your project."
   ]
  },
  {
   "cell_type": "code",
   "execution_count": 13,
   "id": "614de729",
   "metadata": {
    "execution": {
     "iopub.execute_input": "2022-08-03T01:52:10.253325Z",
     "iopub.status.busy": "2022-08-03T01:52:10.252938Z",
     "iopub.status.idle": "2022-08-03T01:52:10.259311Z",
     "shell.execute_reply": "2022-08-03T01:52:10.258458Z"
    },
    "papermill": {
     "duration": 0.016601,
     "end_time": "2022-08-03T01:52:10.261303",
     "exception": false,
     "start_time": "2022-08-03T01:52:10.244702",
     "status": "completed"
    },
    "tags": []
   },
   "outputs": [
    {
     "data": {
      "text/plain": [
       "30"
      ]
     },
     "execution_count": 13,
     "metadata": {},
     "output_type": "execute_result"
    }
   ],
   "source": [
    "get_actual_cost(432, 144, 400, 15) "
   ]
  },
  {
   "cell_type": "markdown",
   "id": "f3fbc1a8",
   "metadata": {
    "papermill": {
     "duration": 0.006985,
     "end_time": "2022-08-03T01:52:10.275438",
     "exception": false,
     "start_time": "2022-08-03T01:52:10.268453",
     "status": "completed"
    },
    "tags": []
   },
   "source": [
    "Say you're working with a slightly larger room.  Run the next code cell to calculate the cost of the project."
   ]
  },
  {
   "cell_type": "code",
   "execution_count": 14,
   "id": "fbe3ebce",
   "metadata": {
    "execution": {
     "iopub.execute_input": "2022-08-03T01:52:10.291565Z",
     "iopub.status.busy": "2022-08-03T01:52:10.290837Z",
     "iopub.status.idle": "2022-08-03T01:52:10.296794Z",
     "shell.execute_reply": "2022-08-03T01:52:10.295927Z"
    },
    "papermill": {
     "duration": 0.016299,
     "end_time": "2022-08-03T01:52:10.298745",
     "exception": false,
     "start_time": "2022-08-03T01:52:10.282446",
     "status": "completed"
    },
    "tags": []
   },
   "outputs": [
    {
     "data": {
      "text/plain": [
       "45"
      ]
     },
     "execution_count": 14,
     "metadata": {},
     "output_type": "execute_result"
    }
   ],
   "source": [
    "get_actual_cost(594, 288, 400, 15) "
   ]
  }
 ],
 "metadata": {
  "kernelspec": {
   "display_name": "Python 3",
   "language": "python",
   "name": "python3"
  },
  "language_info": {
   "codemirror_mode": {
    "name": "ipython",
    "version": 3
   },
   "file_extension": ".py",
   "mimetype": "text/x-python",
   "name": "python",
   "nbconvert_exporter": "python",
   "pygments_lexer": "ipython3",
   "version": "3.7.12"
  },
  "papermill": {
   "default_parameters": {},
   "duration": 10.727381,
   "end_time": "2022-08-03T01:52:10.955882",
   "environment_variables": {},
   "exception": null,
   "input_path": "__notebook__.ipynb",
   "output_path": "__notebook__.ipynb",
   "parameters": {},
   "start_time": "2022-08-03T01:52:00.228501",
   "version": "2.3.4"
  }
 },
 "nbformat": 4,
 "nbformat_minor": 5
}
